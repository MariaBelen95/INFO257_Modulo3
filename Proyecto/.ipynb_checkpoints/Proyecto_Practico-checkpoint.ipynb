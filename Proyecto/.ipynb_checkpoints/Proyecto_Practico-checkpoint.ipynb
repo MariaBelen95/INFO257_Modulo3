{
 "cells": [
  {
   "cell_type": "markdown",
   "metadata": {},
   "source": [
    "# Proyecto práctico\n",
    "\n",
    "## Unidad 3 - Aprendizaje supervisado\n",
    "\n",
    "El proyecto práctico consiste en abordar un problema de clasificación de documentos textuales. Tenemos a nuestra disposición un dataset de noticias de prensa en español publicada por el medio \"CNN Chile\".\n",
    "\n",
    "Las noticias están divididas en 7 categorías temáticas: *'pais','deportes','tendencias','tecnologias','cultura','economia','mundo'*\n",
    "\n",
    "El proyecto se divide en dos partes:\n",
    "\n",
    "- Utilizar al menos 3 estrategías para entrenar modelos de clasificación capaces de clasificar las noticias según su categoría temática.\n",
    "\n",
    "- Explorar cuáles son las características que permiten explicar las decisiones de su modelo.\n",
    "\n",
    "## 0 Evaluación\n",
    "\n",
    "El proyecto se realiza de forma individual. Se entrega a más tardar el **lunes 30 de noviembre** en su repositorio GitHub.\n",
    "\n",
    "**Pauta de evaluación:**\n",
    "\n",
    "Competencia 1: Aplicar un protocolo de aprendizaje supervisado para resolver un problema clasificación estandar, utilizando un entorno de programación en Python\n",
    "\n",
    "- < 2 : El protocolo de aprendizaje supervisado utilizado es incompleto y/o presenta errores importantes\n",
    "- 2 a 3.9 : El protocolo de aprendizaje supervisado utilizado es incompleto o presenta un error importante\n",
    "- 4 a 5.5 : El protocolo de aprendizaje es completo, no tiene error, pero las estrategias utilizadas son relativamente simples y el rendimiento de los modelos es perfectible.\n",
    "- 5.6 a 7.0 : El protocolo de aprendizaje es completo, no tiene error y al menos una de las estrategias utilizadas a necesitado un trabajado más avanzado y/o permite obtener un mejor rendimiento.\n",
    "\n",
    "Competencia 2: Explicar el rendimiento de un modelo de clasificación aplicando un protocolo de evaluación Precision/Recall/F-Score\n",
    "\n",
    "- < 2 : El trabajo no presenta explicaciones del rendimiento de los modelos de clasificación\n",
    "- 2 a 3.9 : El trabajo presenta algunas explicaciones pero tienen errores.\n",
    "- 4 a 5.5 : El trabajo presenta explicaciones correctas del rendimiento de los modelos\n",
    "- 5.6 a 7 : El trabajo presenta explicaciones correctas del rendimiento de los modelos y además presenta un método para explicar las decisiones/errores\n"
   ]
  },
  {
   "cell_type": "markdown",
   "metadata": {},
   "source": [
    "## 1 Dataset"
   ]
  },
  {
   "cell_type": "code",
   "execution_count": 1,
   "metadata": {},
   "outputs": [
    {
     "data": {
      "text/html": [
       "<div>\n",
       "<style scoped>\n",
       "    .dataframe tbody tr th:only-of-type {\n",
       "        vertical-align: middle;\n",
       "    }\n",
       "\n",
       "    .dataframe tbody tr th {\n",
       "        vertical-align: top;\n",
       "    }\n",
       "\n",
       "    .dataframe thead th {\n",
       "        text-align: right;\n",
       "    }\n",
       "</style>\n",
       "<table border=\"1\" class=\"dataframe\">\n",
       "  <thead>\n",
       "    <tr style=\"text-align: right;\">\n",
       "      <th></th>\n",
       "      <th>country</th>\n",
       "      <th>media_outlet</th>\n",
       "      <th>url</th>\n",
       "      <th>title</th>\n",
       "      <th>text</th>\n",
       "      <th>date</th>\n",
       "      <th>category</th>\n",
       "    </tr>\n",
       "  </thead>\n",
       "  <tbody>\n",
       "    <tr>\n",
       "      <th>0</th>\n",
       "      <td>chile</td>\n",
       "      <td>cnnchile</td>\n",
       "      <td>https://www.cnnchile.com/pais/pdta-del-colegio...</td>\n",
       "      <td>Pdta. del Colegio de Matronas explicó los ries...</td>\n",
       "      <td>La Federación de Estudiantes de la Universidad...</td>\n",
       "      <td>2018-03-29 00:00:00.000000</td>\n",
       "      <td>pais</td>\n",
       "    </tr>\n",
       "    <tr>\n",
       "      <th>1</th>\n",
       "      <td>chile</td>\n",
       "      <td>cnnchile</td>\n",
       "      <td>https://www.cnnchile.com/pais/defensoria-ninez...</td>\n",
       "      <td>Defensoría de la Niñez pide al Estado velar po...</td>\n",
       "      <td>La Defensoría de la Niñez emitió este domingo ...</td>\n",
       "      <td>2020-08-02 00:00:00.000000</td>\n",
       "      <td>pais</td>\n",
       "    </tr>\n",
       "    <tr>\n",
       "      <th>2</th>\n",
       "      <td>chile</td>\n",
       "      <td>cnnchile</td>\n",
       "      <td>https://www.cnnchile.com/pais/cuanto-les-pagar...</td>\n",
       "      <td>¿Cuánto les pagarán a los vocales de mesa?</td>\n",
       "      <td>El monto del bono es de dos tercios de Unidad ...</td>\n",
       "      <td>2016-10-20 00:00:00.000000</td>\n",
       "      <td>pais</td>\n",
       "    </tr>\n",
       "    <tr>\n",
       "      <th>3</th>\n",
       "      <td>chile</td>\n",
       "      <td>cnnchile</td>\n",
       "      <td>https://www.cnnchile.com/pais/sobrino-de-aleja...</td>\n",
       "      <td>Sobrino de Alejandro Navarro intenta “funar” e...</td>\n",
       "      <td>Una nueva polémica tiene esta carrera presiden...</td>\n",
       "      <td>2017-11-13 00:00:00.000000</td>\n",
       "      <td>pais</td>\n",
       "    </tr>\n",
       "    <tr>\n",
       "      <th>4</th>\n",
       "      <td>chile</td>\n",
       "      <td>cnnchile</td>\n",
       "      <td>https://www.cnnchile.com/pais/analisis-sobre-e...</td>\n",
       "      <td>Análisis sobre el aumento de impuestos para al...</td>\n",
       "      <td>Especialistas recomiendan no consumir más de 2...</td>\n",
       "      <td>2014-05-05 00:00:00.000000</td>\n",
       "      <td>pais</td>\n",
       "    </tr>\n",
       "    <tr>\n",
       "      <th>...</th>\n",
       "      <td>...</td>\n",
       "      <td>...</td>\n",
       "      <td>...</td>\n",
       "      <td>...</td>\n",
       "      <td>...</td>\n",
       "      <td>...</td>\n",
       "      <td>...</td>\n",
       "    </tr>\n",
       "    <tr>\n",
       "      <th>6995</th>\n",
       "      <td>chile</td>\n",
       "      <td>cnnchile</td>\n",
       "      <td>https://www.cnnchile.com/tecnologias/playstati...</td>\n",
       "      <td>PlayStation 5 vs Xbox Series X: Mira la compar...</td>\n",
       "      <td>Las compañías ya han revelado muchos detalles ...</td>\n",
       "      <td>2020-09-18 00:00:00.000000</td>\n",
       "      <td>tecnologias</td>\n",
       "    </tr>\n",
       "    <tr>\n",
       "      <th>6996</th>\n",
       "      <td>chile</td>\n",
       "      <td>cnnchile</td>\n",
       "      <td>https://www.cnnchile.com/tecnologias/android-l...</td>\n",
       "      <td>Android le dará “una paliza” a Windows en 2013</td>\n",
       "      <td>Se proyecta que tras un virtual empate en 2012...</td>\n",
       "      <td>2013-04-04 00:00:00.000000</td>\n",
       "      <td>tecnologias</td>\n",
       "    </tr>\n",
       "    <tr>\n",
       "      <th>6997</th>\n",
       "      <td>chile</td>\n",
       "      <td>cnnchile</td>\n",
       "      <td>https://www.cnnchile.com/tecnologias/regalos-t...</td>\n",
       "      <td>Regalos tecnológicos marcaron pauta en Navidad</td>\n",
       "      <td>Tablets y smartphones fueron los regalos tecno...</td>\n",
       "      <td>2012-12-26 00:00:00.000000</td>\n",
       "      <td>tecnologias</td>\n",
       "    </tr>\n",
       "    <tr>\n",
       "      <th>6998</th>\n",
       "      <td>chile</td>\n",
       "      <td>cnnchile</td>\n",
       "      <td>https://www.cnnchile.com/tecnologias/jugar-con...</td>\n",
       "      <td>Jugar con Fox en Starlink vale totalmente la p...</td>\n",
       "      <td>Crecí jugando clásicos de naves como Terminal ...</td>\n",
       "      <td>2018-10-30 00:00:00.000000</td>\n",
       "      <td>tecnologias</td>\n",
       "    </tr>\n",
       "    <tr>\n",
       "      <th>6999</th>\n",
       "      <td>chile</td>\n",
       "      <td>cnnchile</td>\n",
       "      <td>https://www.cnnchile.com/tecnologias/konami-la...</td>\n",
       "      <td>Konami lanza PES 2018 de forma gratuita para i...</td>\n",
       "      <td>Konami Digital Entertainment ha anunciado que ...</td>\n",
       "      <td>2017-11-10 00:00:00.000000</td>\n",
       "      <td>tecnologias</td>\n",
       "    </tr>\n",
       "  </tbody>\n",
       "</table>\n",
       "<p>7000 rows × 7 columns</p>\n",
       "</div>"
      ],
      "text/plain": [
       "     country media_outlet                                                url  \\\n",
       "0      chile     cnnchile  https://www.cnnchile.com/pais/pdta-del-colegio...   \n",
       "1      chile     cnnchile  https://www.cnnchile.com/pais/defensoria-ninez...   \n",
       "2      chile     cnnchile  https://www.cnnchile.com/pais/cuanto-les-pagar...   \n",
       "3      chile     cnnchile  https://www.cnnchile.com/pais/sobrino-de-aleja...   \n",
       "4      chile     cnnchile  https://www.cnnchile.com/pais/analisis-sobre-e...   \n",
       "...      ...          ...                                                ...   \n",
       "6995   chile     cnnchile  https://www.cnnchile.com/tecnologias/playstati...   \n",
       "6996   chile     cnnchile  https://www.cnnchile.com/tecnologias/android-l...   \n",
       "6997   chile     cnnchile  https://www.cnnchile.com/tecnologias/regalos-t...   \n",
       "6998   chile     cnnchile  https://www.cnnchile.com/tecnologias/jugar-con...   \n",
       "6999   chile     cnnchile  https://www.cnnchile.com/tecnologias/konami-la...   \n",
       "\n",
       "                                                  title  \\\n",
       "0     Pdta. del Colegio de Matronas explicó los ries...   \n",
       "1     Defensoría de la Niñez pide al Estado velar po...   \n",
       "2            ¿Cuánto les pagarán a los vocales de mesa?   \n",
       "3     Sobrino de Alejandro Navarro intenta “funar” e...   \n",
       "4     Análisis sobre el aumento de impuestos para al...   \n",
       "...                                                 ...   \n",
       "6995  PlayStation 5 vs Xbox Series X: Mira la compar...   \n",
       "6996     Android le dará “una paliza” a Windows en 2013   \n",
       "6997     Regalos tecnológicos marcaron pauta en Navidad   \n",
       "6998  Jugar con Fox en Starlink vale totalmente la p...   \n",
       "6999  Konami lanza PES 2018 de forma gratuita para i...   \n",
       "\n",
       "                                                   text  \\\n",
       "0     La Federación de Estudiantes de la Universidad...   \n",
       "1     La Defensoría de la Niñez emitió este domingo ...   \n",
       "2     El monto del bono es de dos tercios de Unidad ...   \n",
       "3     Una nueva polémica tiene esta carrera presiden...   \n",
       "4     Especialistas recomiendan no consumir más de 2...   \n",
       "...                                                 ...   \n",
       "6995  Las compañías ya han revelado muchos detalles ...   \n",
       "6996  Se proyecta que tras un virtual empate en 2012...   \n",
       "6997  Tablets y smartphones fueron los regalos tecno...   \n",
       "6998  Crecí jugando clásicos de naves como Terminal ...   \n",
       "6999  Konami Digital Entertainment ha anunciado que ...   \n",
       "\n",
       "                            date     category  \n",
       "0     2018-03-29 00:00:00.000000         pais  \n",
       "1     2020-08-02 00:00:00.000000         pais  \n",
       "2     2016-10-20 00:00:00.000000         pais  \n",
       "3     2017-11-13 00:00:00.000000         pais  \n",
       "4     2014-05-05 00:00:00.000000         pais  \n",
       "...                          ...          ...  \n",
       "6995  2020-09-18 00:00:00.000000  tecnologias  \n",
       "6996  2013-04-04 00:00:00.000000  tecnologias  \n",
       "6997  2012-12-26 00:00:00.000000  tecnologias  \n",
       "6998  2018-10-30 00:00:00.000000  tecnologias  \n",
       "6999  2017-11-10 00:00:00.000000  tecnologias  \n",
       "\n",
       "[7000 rows x 7 columns]"
      ]
     },
     "execution_count": 1,
     "metadata": {},
     "output_type": "execute_result"
    }
   ],
   "source": [
    "import pandas as pd\n",
    "\n",
    "df = pd.read_csv('cnnchile_7000.csv')\n",
    "df"
   ]
  },
  {
   "cell_type": "code",
   "execution_count": 2,
   "metadata": {},
   "outputs": [
    {
     "data": {
      "text/html": [
       "<div>\n",
       "<style scoped>\n",
       "    .dataframe tbody tr th:only-of-type {\n",
       "        vertical-align: middle;\n",
       "    }\n",
       "\n",
       "    .dataframe tbody tr th {\n",
       "        vertical-align: top;\n",
       "    }\n",
       "\n",
       "    .dataframe thead th {\n",
       "        text-align: right;\n",
       "    }\n",
       "</style>\n",
       "<table border=\"1\" class=\"dataframe\">\n",
       "  <thead>\n",
       "    <tr style=\"text-align: right;\">\n",
       "      <th></th>\n",
       "      <th>category</th>\n",
       "      <th>count(*)</th>\n",
       "    </tr>\n",
       "  </thead>\n",
       "  <tbody>\n",
       "    <tr>\n",
       "      <th>0</th>\n",
       "      <td>tendencias</td>\n",
       "      <td>1000</td>\n",
       "    </tr>\n",
       "    <tr>\n",
       "      <th>1</th>\n",
       "      <td>tecnologias</td>\n",
       "      <td>1000</td>\n",
       "    </tr>\n",
       "    <tr>\n",
       "      <th>2</th>\n",
       "      <td>pais</td>\n",
       "      <td>1000</td>\n",
       "    </tr>\n",
       "    <tr>\n",
       "      <th>3</th>\n",
       "      <td>mundo</td>\n",
       "      <td>1000</td>\n",
       "    </tr>\n",
       "    <tr>\n",
       "      <th>4</th>\n",
       "      <td>economia</td>\n",
       "      <td>1000</td>\n",
       "    </tr>\n",
       "    <tr>\n",
       "      <th>5</th>\n",
       "      <td>deportes</td>\n",
       "      <td>1000</td>\n",
       "    </tr>\n",
       "    <tr>\n",
       "      <th>6</th>\n",
       "      <td>cultura</td>\n",
       "      <td>1000</td>\n",
       "    </tr>\n",
       "  </tbody>\n",
       "</table>\n",
       "</div>"
      ],
      "text/plain": [
       "      category  count(*)\n",
       "0   tendencias      1000\n",
       "1  tecnologias      1000\n",
       "2         pais      1000\n",
       "3        mundo      1000\n",
       "4     economia      1000\n",
       "5     deportes      1000\n",
       "6      cultura      1000"
      ]
     },
     "execution_count": 2,
     "metadata": {},
     "output_type": "execute_result"
    }
   ],
   "source": [
    "from pandasql import sqldf\n",
    "\n",
    "q=\"\"\"SELECT category, count(*) FROM df GROUP BY category ORDER BY count(*) DESC;\"\"\"\n",
    "result=sqldf(q)\n",
    "result"
   ]
  },
  {
   "cell_type": "code",
   "execution_count": 3,
   "metadata": {},
   "outputs": [
    {
     "data": {
      "text/plain": [
       "<AxesSubplot:xlabel='category', ylabel='count'>"
      ]
     },
     "execution_count": 3,
     "metadata": {},
     "output_type": "execute_result"
    },
    {
     "data": {
      "image/png": "[encoded data removed]",
      "text/plain": [
       "<Figure size 432x288 with 1 Axes>"
      ]
     },
     "metadata": {
      "needs_background": "light"
     },
     "output_type": "display_data"
    }
   ],
   "source": [
    "import seaborn as sb\n",
    "\n",
    "sb.countplot(x='category',data=df, palette='hls')"
   ]
  },
  {
   "cell_type": "code",
   "execution_count": 4,
   "metadata": {},
   "outputs": [
    {
     "data": {
      "text/plain": [
       "country         0\n",
       "media_outlet    0\n",
       "url             0\n",
       "title           1\n",
       "text            0\n",
       "date            0\n",
       "category        0\n",
       "dtype: int64"
      ]
     },
     "execution_count": 4,
     "metadata": {},
     "output_type": "execute_result"
    }
   ],
   "source": [
    "df.isnull().sum()"
   ]
  },
  {
   "cell_type": "code",
   "execution_count": 5,
   "metadata": {},
   "outputs": [],
   "source": [
    "import spacy\n",
    "\n",
    "nlp = spacy.load(\"es\")"
   ]
  },
  {
   "cell_type": "markdown",
   "metadata": {},
   "source": [
    "## 2 Bag of Words + tf-idf"
   ]
  },
  {
   "cell_type": "markdown",
   "metadata": {},
   "source": [
    "Para la primera implementación de una solución, se escogió el método de regresión lógistica, **Bag of Words + tf-idf**, esto dado las características del problema (clasificación de texto por categoría)."
   ]
  },
  {
   "cell_type": "code",
   "execution_count": 6,
   "metadata": {},
   "outputs": [],
   "source": [
    "def feature_extraction(text):\n",
    "    \n",
    "    mytokens = nlp(text)\n",
    "\n",
    "    #Guardamos las palabras como características si corresponden a ciertas categorias gramaticales\n",
    "    mytokens = [ word for word in mytokens if word.pos_ in [\"NOUN\", \"ADJ\", \"VERB\"] ]\n",
    "    \n",
    "    #Transformamos las palabras en minusculas\n",
    "    mytokens = [ word.lemma_.lower().strip() for word in mytokens ]\n",
    "\n",
    "    # return preprocessed list of tokens\n",
    "    return mytokens"
   ]
  },
  {
   "cell_type": "code",
   "execution_count": 7,
   "metadata": {},
   "outputs": [],
   "source": [
    "def printMostImportantFeatures(vectorizer, model, N):\n",
    "    feature_names = vectorizer.get_feature_names()\n",
    "    coefs_with_fns = sorted(zip(model.coef_[0], feature_names))\n",
    "    topClass1 = coefs_with_fns[:N]\n",
    "    topClass2 = coefs_with_fns[:-(N + 1):-1]\n",
    "    print(\"Class 1 best: \")\n",
    "    for feat in topClass1:\n",
    "        print(feat)\n",
    "    print(\"Class 2 best: \")\n",
    "    for feat in topClass2:\n",
    "        print(feat)"
   ]
  },
  {
   "cell_type": "code",
   "execution_count": 8,
   "metadata": {},
   "outputs": [],
   "source": [
    "from sklearn.feature_extraction.text import TfidfVectorizer\n",
    "\n",
    "tfidf_vector = TfidfVectorizer(tokenizer = feature_extraction, min_df=0., max_df=1.0)"
   ]
  },
  {
   "cell_type": "markdown",
   "metadata": {},
   "source": [
    "Se busca identificar la categoría de la noticia mediante el texto de esta, se separa la muestra en una submuestra a utilizar para el entrenamiento y otra para testear la máquina, cada una con sus respectivas etiquetas."
   ]
  },
  {
   "cell_type": "code",
   "execution_count": 9,
   "metadata": {},
   "outputs": [],
   "source": [
    "from sklearn.model_selection import train_test_split\n",
    "\n",
    "X = df['text'] \n",
    "ylabels = df['category']\n",
    "\n",
    "X_train, X_test, y_train, y_test = train_test_split(X, ylabels, test_size=0.5)"
   ]
  },
  {
   "cell_type": "markdown",
   "metadata": {},
   "source": [
    "La máquina es entrenada usando Pipeline y LogisticRegresion de la librería sklearn.\n",
    "El método LogisticRegresion de sklearn, funciona para los casos multiclass como este, usando un algoritmo OvR (One vs Rest) o bien usando la función de perdida Cross-Entropy. Esto se puede ajustar cambiando el valor del parametro multi_class en el método LogisticRegresion, el valor por defecto es 'auto'."
   ]
  },
  {
   "cell_type": "code",
   "execution_count": 10,
   "metadata": {
    "scrolled": true
   },
   "outputs": [
    {
     "data": {
      "text/plain": [
       "Pipeline(steps=[('vectorizing',\n",
       "                 TfidfVectorizer(min_df=0.0,\n",
       "                                 tokenizer=<function feature_extraction at 0x121980160>)),\n",
       "                ('learning', LogisticRegression())])"
      ]
     },
     "execution_count": 10,
     "metadata": {},
     "output_type": "execute_result"
    }
   ],
   "source": [
    "from sklearn.pipeline import Pipeline\n",
    "\n",
    "from sklearn.linear_model import LogisticRegression\n",
    "\n",
    "model_2 = LogisticRegression()\n",
    "\n",
    "pipe = Pipeline([('vectorizing', tfidf_vector),\n",
    "                 ('learning', model_2)])\n",
    "\n",
    "# model generation\n",
    "pipe.fit(X_train,y_train)"
   ]
  },
  {
   "cell_type": "markdown",
   "metadata": {},
   "source": [
    "### 2.1 Evaluación del Modelo"
   ]
  },
  {
   "cell_type": "code",
   "execution_count": 11,
   "metadata": {},
   "outputs": [
    {
     "name": "stdout",
     "output_type": "stream",
     "text": [
      "['deportes' 'economia' 'deportes' ... 'cultura' 'tecnologias' 'deportes']\n"
     ]
    }
   ],
   "source": [
    "from sklearn import metrics\n",
    "\n",
    "predicted = pipe.predict(X_test)\n",
    "\n",
    "print(predicted)"
   ]
  },
  {
   "cell_type": "code",
   "execution_count": 12,
   "metadata": {},
   "outputs": [
    {
     "name": "stdout",
     "output_type": "stream",
     "text": [
      "Logistic Regression Accuracy: 0.7568571428571429\n"
     ]
    }
   ],
   "source": [
    "# Model Accuracy\n",
    "print(\"Logistic Regression Accuracy:\",metrics.accuracy_score(y_test, predicted))"
   ]
  },
  {
   "cell_type": "markdown",
   "metadata": {},
   "source": [
    "Este modelo nos da una precisión aproximada del 76% "
   ]
  },
  {
   "cell_type": "code",
   "execution_count": 13,
   "metadata": {},
   "outputs": [
    {
     "name": "stdout",
     "output_type": "stream",
     "text": [
      "[[448   1   1  15   9   6  22]\n",
      " [  5 429  10  10  12   3  30]\n",
      " [  0  11 410  13  54  15   4]\n",
      " [ 16  16  30 359  38  12  25]\n",
      " [  3  12  47  58 341  12  14]\n",
      " [ 12  23  25   9  22 352  58]\n",
      " [ 57  27  14  19  20  61 310]]\n",
      "              precision    recall  f1-score   support\n",
      "\n",
      "     cultura       0.83      0.89      0.86       502\n",
      "    deportes       0.83      0.86      0.84       499\n",
      "    economia       0.76      0.81      0.79       507\n",
      "       mundo       0.74      0.72      0.73       496\n",
      "        pais       0.69      0.70      0.69       487\n",
      " tecnologias       0.76      0.70      0.73       501\n",
      "  tendencias       0.67      0.61      0.64       508\n",
      "\n",
      "    accuracy                           0.76      3500\n",
      "   macro avg       0.75      0.76      0.75      3500\n",
      "weighted avg       0.75      0.76      0.76      3500\n",
      "\n"
     ]
    }
   ],
   "source": [
    "# Matriz de confusión\n",
    "from sklearn.metrics import confusion_matrix\n",
    "\n",
    "confusion_matrix = confusion_matrix(y_test, predicted)\n",
    "print(confusion_matrix)\n",
    "\n",
    "from sklearn.metrics import classification_report\n",
    "\n",
    "print(classification_report(y_test, predicted))"
   ]
  },
  {
   "cell_type": "markdown",
   "metadata": {},
   "source": [
    "Tomando en cuenta que el índice de precisión se refiere a la proporción de true positives dentro de todos los true and false positives, el recall es proporción de true positives dentro de true positives y false negatives, mientras que el f1-score es la media entre precisión y recall."
   ]
  },
  {
   "cell_type": "markdown",
   "metadata": {},
   "source": [
    "El modelo muestra **menor nivel de precisión** al predecir noticias de la categoría **tendencias** con un **0.67** y un **mayor nivel** al predecir noticias de **cultura y deportes** con **0.83**, mientras que presenta **mayor recall** en la predicción de noticias de **cultura** con **0.89** y **menor en tendencias** con **0.61**. En promedio, el modelo es mejor al predecir noticias de cultura y deportes con un f1-score de 0.87 y 0.88 respectivamente."
   ]
  },
  {
   "cell_type": "code",
   "execution_count": 14,
   "metadata": {},
   "outputs": [
    {
     "name": "stdout",
     "output_type": "stream",
     "text": [
      "Class 1 best: \n",
      "(-1.4069665268761737, 'adjuntar')\n",
      "(-1.1851709376967883, 'presidente')\n",
      "(-1.1492887069118471, \"'\")\n",
      "(-1.1348895822055949, '=')\n",
      "(-1.0893814293271085, 'empresa')\n",
      "(-1.0847154186733752, 'video')\n",
      "(-1.0287825310075909, 'utilizar')\n",
      "(-0.9180478682013332, 'detalle')\n",
      "(-0.8498893891160231, 'jugador')\n",
      "(-0.8385596377204037, 'ministro')\n",
      "(-0.8156701298814562, 'jugar')\n",
      "(-0.8094633478004927, 'lanoticiacnn')\n",
      "(-0.7834793146527861, 'aumentar')\n",
      "(-0.7170742111339268, 'informar')\n",
      "(-0.7080939598845304, 'revisar')\n",
      "(-0.7021631833551993, 'usuario')\n",
      "(-0.6720727122296414, 'blocar')\n",
      "(-0.6540487229595922, 'producto')\n",
      "(-0.6501418357966208, 'fútbol')\n",
      "(-0.6500703081412149, 'mandatario')\n",
      "Class 2 best: \n",
      "(3.512817493258223, 'película')\n",
      "(3.183905100170615, 'artista')\n",
      "(2.6914621746886054, 'seriar')\n",
      "(2.5639322665237203, 'canción')\n",
      "(2.4860217636791075, 'músico')\n",
      "(2.350782739912899, 'banda')\n",
      "(2.2990296425925747, 'estrenar')\n",
      "(2.2669341329560795, 'ser')\n",
      "(2.1206633414984264, 'cantante')\n",
      "(2.0686290171835693, 'historia')\n",
      "(2.023874197375002, 'temporada')\n",
      "(1.997674328155343, 'festival')\n",
      "(1.9652748121748613, 'actriz')\n",
      "(1.9441655619570202, 'personaje')\n",
      "(1.913491549912372, 'disco')\n",
      "(1.8715055146989006, 'producción')\n",
      "(1.8093426601723712, 'cine')\n",
      "(1.7618774774135082, 'concertar')\n",
      "(1.713071751855348, 'teatro')\n",
      "(1.7127437932719927, 'obrar')\n"
     ]
    }
   ],
   "source": [
    "printMostImportantFeatures(tfidf_vector, model_2, 20)"
   ]
  },
  {
   "cell_type": "markdown",
   "metadata": {},
   "source": [
    "## 3 Naïve Bayes"
   ]
  },
  {
   "cell_type": "markdown",
   "metadata": {},
   "source": [
    "### 3.1 Entrenamiento MultinomialNB"
   ]
  },
  {
   "cell_type": "code",
   "execution_count": 280,
   "metadata": {},
   "outputs": [],
   "source": [
    "from sklearn.naive_bayes import MultinomialNB\n",
    "from sklearn.pipeline import Pipeline\n",
    "\n",
    "nb = MultinomialNB()\n",
    "\n",
    "model_nb = Pipeline([('vectorizing', tfidf_vector),\n",
    "                 ('learning', nb)])"
   ]
  },
  {
   "cell_type": "code",
   "execution_count": 281,
   "metadata": {},
   "outputs": [
    {
     "data": {
      "text/plain": [
       "Pipeline(steps=[('vectorizing',\n",
       "                 TfidfVectorizer(min_df=0.0,\n",
       "                                 tokenizer=<function feature_extraction at 0x126d8a940>)),\n",
       "                ('learning', MultinomialNB())])"
      ]
     },
     "execution_count": 281,
     "metadata": {},
     "output_type": "execute_result"
    }
   ],
   "source": [
    "model_nb.fit(X_train, y_train)"
   ]
  },
  {
   "cell_type": "markdown",
   "metadata": {},
   "source": [
    "### 3.2 Evaluación del Modelo MultinomialNB"
   ]
  },
  {
   "cell_type": "code",
   "execution_count": 282,
   "metadata": {},
   "outputs": [],
   "source": [
    "predicted = model_nb.predict(X_test)"
   ]
  },
  {
   "cell_type": "code",
   "execution_count": 284,
   "metadata": {},
   "outputs": [
    {
     "name": "stdout",
     "output_type": "stream",
     "text": [
      "Naïve Bayes Accuracy: 0.7568571428571429\n"
     ]
    }
   ],
   "source": [
    "from sklearn import metrics\n",
    "# Model Accuracy\n",
    "print(\"Naïve Bayes Accuracy:\",metrics.accuracy_score(y_test, predicted))"
   ]
  },
  {
   "cell_type": "code",
   "execution_count": 285,
   "metadata": {},
   "outputs": [
    {
     "name": "stdout",
     "output_type": "stream",
     "text": [
      "[[478   0   2  16   6   4   4]\n",
      " [ 21 418  17  16   9   7  20]\n",
      " [  3  14 429   6  30  21   2]\n",
      " [ 23  12  32 367  38  20  11]\n",
      " [ 13  13  59  50 344   4  15]\n",
      " [ 29  21  32   7  15 352  53]\n",
      " [ 81  15   9  18  15  68 261]]\n",
      "              precision    recall  f1-score   support\n",
      "\n",
      "     cultura       0.74      0.94      0.83       510\n",
      "    deportes       0.85      0.82      0.84       508\n",
      "    economia       0.74      0.85      0.79       505\n",
      "       mundo       0.76      0.73      0.75       503\n",
      "        pais       0.75      0.69      0.72       498\n",
      " tecnologias       0.74      0.69      0.71       509\n",
      "  tendencias       0.71      0.56      0.63       467\n",
      "\n",
      "    accuracy                           0.76      3500\n",
      "   macro avg       0.76      0.75      0.75      3500\n",
      "weighted avg       0.76      0.76      0.75      3500\n",
      "\n"
     ]
    }
   ],
   "source": [
    "from sklearn import metrics\n",
    "from sklearn.metrics import classification_report\n",
    "\n",
    "confusion_matrix = metrics.confusion_matrix(y_test, predicted)\n",
    "\n",
    "print(confusion_matrix)\n",
    "\n",
    "print(classification_report(y_test, predicted))"
   ]
  },
  {
   "cell_type": "markdown",
   "metadata": {},
   "source": [
    "Con este modelo obtenemos un **accuracy de 0.76**, donde la categoría con **mayor índice de precision** al predecir es **deportes** con **0.85** y el con **menor precision es tendencias** con **0.71**. La categoría con **mayor recall es cultura** con **0.94** y la de **menor recall es tendencias** con **0.56**. Promediando precision y recall obtenemos que los **mejores f1-scores** son en **deportes, cultura y economía**, cada uno con **0.84, 0.83 y 0.79** respectivamente"
   ]
  },
  {
   "cell_type": "markdown",
   "metadata": {},
   "source": [
    "A continuación encontramos las 10 palabras con mayor probabilidad logarítmica para cada categoría según el modelo Naïve Bayes:"
   ]
  },
  {
   "cell_type": "code",
   "execution_count": null,
   "metadata": {},
   "outputs": [],
   "source": [
    "def get_salient_words(nb_clf, vect, class_ind):\n",
    "    \"\"\"Return salient words for given class\n",
    "    Parameters\n",
    "    ----------\n",
    "    nb_clf : a Naive Bayes classifier (e.g. MultinomialNB, BernoulliNB)\n",
    "    vect : CountVectorizer\n",
    "    class_ind : int\n",
    "    Returns\n",
    "    -------\n",
    "    list\n",
    "        a sorted list of (word, log prob) sorted by log probability in descending order.\n",
    "    \"\"\"\n",
    "\n",
    "    words = vect.get_feature_names()\n",
    "    zipped = list(zip(words, nb_clf.feature_log_prob_[class_ind]))\n",
    "    sorted_zip = sorted(zipped, key=lambda t: t[1], reverse=True)\n",
    "\n",
    "    return sorted_zip\n",
    "\n",
    "cul_salient_top = get_salient_words(nb, tfidf_vector, 0)[:10]\n",
    "dep_salient_top = get_salient_words(nb, tfidf_vector, 1)[:10]\n",
    "eco_salient_top = get_salient_words(nb, tfidf_vector, 2)[:10]\n",
    "mun_salient_top = get_salient_words(nb, tfidf_vector, 3)[:10]\n",
    "pai_salient_top = get_salient_words(nb, tfidf_vector, 4)[:10]\n",
    "tec_salient_top = get_salient_words(nb, tfidf_vector, 5)[:10]\n",
    "ten_salient_top = get_salient_words(nb, tfidf_vector, 6)[:10]\n",
    "\n",
    "print('Cultura:')\n",
    "print(cul_salient_top)\n",
    "print('Deporte:')\n",
    "print(dep_salient_top)\n",
    "print('Economía:')\n",
    "print(eco_salient_top)\n",
    "print('Mundo:')\n",
    "print(mun_salient_top)\n",
    "print('País:')\n",
    "print(pai_salient_top)\n",
    "print('Tecnología:')\n",
    "print(tec_salient_top)\n",
    "print('Tendencia:')\n",
    "print(ten_salient_top)"
   ]
  },
  {
   "cell_type": "markdown",
   "metadata": {},
   "source": [
    "## 4 Neuronal Networks"
   ]
  },
  {
   "cell_type": "markdown",
   "metadata": {},
   "source": [
    "### 4.1 Preparación de los Datos"
   ]
  },
  {
   "cell_type": "markdown",
   "metadata": {},
   "source": [
    "Como primer paso para el diseño de nuestro modelo, debemos separar el dataset en tres muestras de este, una para entrenar el modelo, otro para validación y el último para testearlo. Se escogió dividirlo con una razón de 0.7 para la muestra de entrenamiento y 0.15 tanto para validación como para testeo."
   ]
  },
  {
   "cell_type": "code",
   "execution_count": 194,
   "metadata": {},
   "outputs": [],
   "source": [
    "from numpy.random import RandomState\n",
    "\n",
    "rng = RandomState()\n",
    "\n",
    "train = df.sample(frac=0.7, random_state=rng)\n",
    "aux = df.loc[~df.index.isin(train.index)]\n",
    "valid = aux.sample(frac=0.5, random_state=rng)\n",
    "test = aux.loc[~aux.index.isin(valid.index)]\n",
    "\n",
    "train.to_csv('train_data.csv')\n",
    "valid.to_csv('valid_data.csv')\n",
    "test.to_csv('test_data.csv')"
   ]
  },
  {
   "cell_type": "code",
   "execution_count": 195,
   "metadata": {},
   "outputs": [
    {
     "data": {
      "text/plain": [
       "<AxesSubplot:xlabel='category', ylabel='count'>"
      ]
     },
     "execution_count": 195,
     "metadata": {},
     "output_type": "execute_result"
    },
    {
     "data": {
      "image/png": "[encoded data removed]",
      "text/plain": [
       "<Figure size 432x288 with 1 Axes>"
      ]
     },
     "metadata": {
      "needs_background": "light"
     },
     "output_type": "display_data"
    }
   ],
   "source": [
    "sb.countplot(x='category',data=train, palette='hls')"
   ]
  },
  {
   "cell_type": "markdown",
   "metadata": {},
   "source": [
    "Como la distribución de los datos por categoría en la muestra de entrenamiento es pareja, se acepta la subdivisión actual para continuar"
   ]
  },
  {
   "cell_type": "code",
   "execution_count": 196,
   "metadata": {},
   "outputs": [],
   "source": [
    "import torch\n",
    "import spacy\n",
    "import random\n",
    "import torchtext\n",
    "from torchtext import data\n",
    "from torchtext import datasets"
   ]
  },
  {
   "cell_type": "code",
   "execution_count": 197,
   "metadata": {},
   "outputs": [],
   "source": [
    "import numpy as np\n",
    "\n",
    "SEED = 1234\n",
    "\n",
    "random.seed(SEED)\n",
    "np.random.seed(SEED)\n",
    "torch.manual_seed(SEED)\n",
    "torch.backends.cudnn.deterministic = True\n",
    "\n",
    "TEXT = data.Field(tokenize = 'spacy')\n",
    "LABEL = data.LabelField()"
   ]
  },
  {
   "cell_type": "code",
   "execution_count": 198,
   "metadata": {},
   "outputs": [],
   "source": [
    "fields = [(None, None), (None,None), (None,None), (None,None), (None,None), ('text', TEXT), (None,None), ('category', LABEL)]\n",
    "\n",
    "train_data, valid_data, test_data = data.TabularDataset.splits(\n",
    "                                        path = '.',\n",
    "                                        train = 'train_data.csv',\n",
    "                                        validation= 'valid_data.csv',\n",
    "                                        test = 'test_data.csv',\n",
    "                                        format = 'csv',\n",
    "                                        fields = fields,\n",
    "                                        skip_header = True\n",
    ")"
   ]
  },
  {
   "cell_type": "code",
   "execution_count": 199,
   "metadata": {},
   "outputs": [
    {
     "name": "stdout",
     "output_type": "stream",
     "text": [
      "{'text': ['Desde', 'el', '26', 'de', 'Octubre', 'al', '\\xa0', '1', 'de', 'Noviembre', ',', 'se', 'llevará', 'a', 'cabo', 'el', 'evento', 'de', 'Halloween', 'donde', 'habrá', 'mayor', 'presencia', 'noctura', 'de', 'pokémon', 'como', '\\xa0', 'Gastly', ',', 'Hunter', ',', 'Gengar', ',', '\\xa0', 'Zubat', ',', 'Golbat', ',', 'Drowzee', 'e', 'Hypno', '.', 'Además', ',', 'se', 'duplicarán', 'la', 'obtención', 'de', 'caramelos', 'al', 'momento', 'de', 'eclosionar', 'un', 'huevo', ',', 'atrapar', 'un', 'pokémon', 'o', 'transferirlo', 'a', 'la', 'granja', '.', 'También', 'se', 'conseguirá', 'más', 'caramelos', 'con', 'el', 'acompañante', ',', 'ya', 'que', 'la', 'medición', 'del', 'kilometraje', 'será', '4', 'veces', 'mejor', '.', 'Este', 'será', 'un', 'hito', 'en', 'Pokémon', 'GO', 'para', 'probar', 'el', 'primer', 'evento', 'desde', 'el', 'lanzamiento', 'del', 'juego', '.'], 'category': 'tecnologias'}\n"
     ]
    }
   ],
   "source": [
    "print(vars(train_data[0]))"
   ]
  },
  {
   "cell_type": "code",
   "execution_count": 286,
   "metadata": {},
   "outputs": [
    {
     "name": "stderr",
     "output_type": "stream",
     "text": [
      "/Library/Frameworks/Python.framework/Versions/3.8/lib/python3.8/site-packages/torchtext/data/iterator.py:48: UserWarning: BucketIterator class will be retired soon and moved to torchtext.legacy. Please see the most recent release notes for further information.\n",
      "  warnings.warn('{} class will be retired soon and moved to torchtext.legacy. Please see the most recent release notes for further information.'.format(self.__class__.__name__), UserWarning)\n"
     ]
    }
   ],
   "source": [
    "BATCH_SIZE = 20\n",
    "\n",
    "device = torch.device('cuda' if torch.cuda.is_available() else 'cpu')\n",
    "\n",
    "train_iterator, valid_iterator, test_iterator = data.BucketIterator.splits(\n",
    "    (train_data, valid_data, test_data), \n",
    "    batch_size = BATCH_SIZE, \n",
    "    device = device,\n",
    "    sort_key=lambda x:len(x.category),\n",
    "    sort_within_batch=False)"
   ]
  },
  {
   "cell_type": "markdown",
   "metadata": {},
   "source": [
    "Se usó un Batch Size de 20 con la intención de que el tiempo de entrenamiento por batch no fuera demasiado alto."
   ]
  },
  {
   "cell_type": "markdown",
   "metadata": {},
   "source": [
    "### 4.2 Arquitectura CNN"
   ]
  },
  {
   "cell_type": "markdown",
   "metadata": {},
   "source": [
    "Se cargan vectores de palabras en español"
   ]
  },
  {
   "cell_type": "code",
   "execution_count": 287,
   "metadata": {},
   "outputs": [],
   "source": [
    "MAX_VOCAB_SIZE = 25000\n",
    "\n",
    "vec = torchtext.vocab.Vectors('glove-sbwc.i25.vec', cache='./Downloads/')\n",
    "\n",
    "TEXT.build_vocab(train_data, \n",
    "                 max_size = MAX_VOCAB_SIZE, \n",
    "                 vectors = vec, \n",
    "                 unk_init = torch.Tensor.normal_)\n",
    "\n",
    "LABEL.build_vocab(train_data)"
   ]
  },
  {
   "cell_type": "code",
   "execution_count": 288,
   "metadata": {},
   "outputs": [
    {
     "name": "stdout",
     "output_type": "stream",
     "text": [
      "defaultdict(None, {'cultura': 0, 'deportes': 1, 'mundo': 2, 'economia': 3, 'tecnologias': 4, 'tendencias': 5, 'pais': 6})\n"
     ]
    }
   ],
   "source": [
    "print(LABEL.vocab.stoi)"
   ]
  },
  {
   "cell_type": "markdown",
   "metadata": {},
   "source": [
    "El modelo usa valores númericos para cada categoría, los cuales son asignados de forma automática y corresponden a cada uno de la siguiente forma:\n",
    "\n",
    "- 0: Cultura\n",
    "- 1: Deportes\n",
    "- 2: Mundo\n",
    "- 3: Economía\n",
    "- 4: Tecnologías\n",
    "- 5: Tendencias\n",
    "- 6: País"
   ]
  },
  {
   "cell_type": "code",
   "execution_count": 289,
   "metadata": {},
   "outputs": [],
   "source": [
    "import torch.nn as nn\n",
    "import torch.nn.functional as F\n",
    "\n",
    "class CNN(nn.Module):\n",
    "    def __init__(self, vocab_size, embedding_dim, n_filters, filter_sizes, output_dim, \n",
    "                 dropout, pad_idx):\n",
    "        \n",
    "        super().__init__()\n",
    "        \n",
    "        self.embedding = nn.Embedding(vocab_size, embedding_dim)\n",
    "        \n",
    "        self.convs = nn.ModuleList([\n",
    "                                    nn.Conv2d(in_channels = 1, \n",
    "                                              out_channels = n_filters, \n",
    "                                              kernel_size = (fs, embedding_dim)) \n",
    "                                    for fs in filter_sizes\n",
    "                                    ])\n",
    "        \n",
    "        self.fc = nn.Linear(len(filter_sizes) * n_filters, output_dim)\n",
    "        \n",
    "        self.dropout = nn.Dropout(dropout)\n",
    "        \n",
    "    def forward(self, text):\n",
    "        \n",
    "        #text = [sent len, batch size]\n",
    "        \n",
    "        text = text.permute(1, 0)\n",
    "                \n",
    "        #text = [batch size, sent len]\n",
    "        \n",
    "        embedded = self.embedding(text)\n",
    "                \n",
    "        #embedded = [batch size, sent len, emb dim]\n",
    "        \n",
    "        embedded = embedded.unsqueeze(1)\n",
    "        \n",
    "        #embedded = [batch size, 1, sent len, emb dim]\n",
    "        \n",
    "        conved = [F.relu(conv(embedded)).squeeze(3) for conv in self.convs]\n",
    "            \n",
    "        #conv_n = [batch size, n_filters, sent len - filter_sizes[n]]\n",
    "        \n",
    "        pooled = [F.max_pool1d(conv, conv.shape[2]).squeeze(2) for conv in conved]\n",
    "        \n",
    "        #pooled_n = [batch size, n_filters]\n",
    "        \n",
    "        cat = self.dropout(torch.cat(pooled, dim = 1))\n",
    "\n",
    "        #cat = [batch size, n_filters * len(filter_sizes)]\n",
    "            \n",
    "        return self.fc(cat)"
   ]
  },
  {
   "cell_type": "code",
   "execution_count": 290,
   "metadata": {},
   "outputs": [],
   "source": [
    "INPUT_DIM = len(TEXT.vocab)\n",
    "EMBEDDING_DIM = 300\n",
    "N_FILTERS = 100\n",
    "FILTER_SIZES = [3,4,5]\n",
    "OUTPUT_DIM = len(LABEL.vocab)\n",
    "DROPOUT = 0.5\n",
    "PAD_IDX = TEXT.vocab.stoi[TEXT.pad_token]\n",
    "\n",
    "model = CNN(INPUT_DIM, EMBEDDING_DIM, N_FILTERS, FILTER_SIZES, OUTPUT_DIM, DROPOUT, PAD_IDX)"
   ]
  },
  {
   "cell_type": "markdown",
   "metadata": {},
   "source": [
    "Después de múltiples pruebas con el número de filtros y los tamaños, se opta por usar 100 filtros de tamaños 3, 4 y 5."
   ]
  },
  {
   "cell_type": "code",
   "execution_count": 291,
   "metadata": {},
   "outputs": [],
   "source": [
    "pretrained_embeddings = TEXT.vocab.vectors\n",
    "\n",
    "model.embedding.weight.data.copy_(pretrained_embeddings)\n",
    "\n",
    "UNK_IDX = TEXT.vocab.stoi[TEXT.unk_token]\n",
    "\n",
    "model.embedding.weight.data[UNK_IDX] = torch.zeros(EMBEDDING_DIM)\n",
    "model.embedding.weight.data[PAD_IDX] = torch.zeros(EMBEDDING_DIM)"
   ]
  },
  {
   "cell_type": "markdown",
   "metadata": {},
   "source": [
    "### 4.3 Funciones de optimización"
   ]
  },
  {
   "cell_type": "code",
   "execution_count": 292,
   "metadata": {},
   "outputs": [],
   "source": [
    "import torch.optim as optim\n",
    "\n",
    "optimizer = optim.Adam(model.parameters())\n",
    "\n",
    "criterion = nn.CrossEntropyLoss()\n",
    "\n",
    "model = model.to(device)\n",
    "criterion = criterion.to(device)"
   ]
  },
  {
   "cell_type": "code",
   "execution_count": 293,
   "metadata": {},
   "outputs": [],
   "source": [
    "import time\n",
    "\n",
    "def epoch_time(start_time, end_time):\n",
    "    elapsed_time = end_time - start_time\n",
    "    elapsed_mins = int(elapsed_time / 60)\n",
    "    elapsed_secs = int(elapsed_time - (elapsed_mins * 60))\n",
    "    return elapsed_mins, elapsed_secs"
   ]
  },
  {
   "cell_type": "code",
   "execution_count": 294,
   "metadata": {},
   "outputs": [],
   "source": [
    "def train(model, iterator, optimizer, criterion):\n",
    "    \n",
    "    epoch_loss = 0\n",
    "    epoch_acc = 0\n",
    "    \n",
    "    model.train()\n",
    "    \n",
    "    for batch in iterator:\n",
    "    \n",
    "        optimizer.zero_grad()\n",
    "        \n",
    "        predictions = model(batch.text)\n",
    "        \n",
    "        loss = criterion(predictions, batch.category)\n",
    "        \n",
    "        acc = categorical_accuracy(predictions, batch.category)\n",
    "        \n",
    "        loss.backward()\n",
    "        \n",
    "        optimizer.step()\n",
    "        \n",
    "        epoch_loss += loss.item()\n",
    "        epoch_acc += acc.item()\n",
    "        \n",
    "    return epoch_loss / len(iterator), epoch_acc / len(iterator)\n"
   ]
  },
  {
   "cell_type": "markdown",
   "metadata": {},
   "source": [
    "### 4.4 Funciones de evaluación"
   ]
  },
  {
   "cell_type": "code",
   "execution_count": 295,
   "metadata": {},
   "outputs": [],
   "source": [
    "def categorical_accuracy(preds, y):\n",
    "    \"\"\"\n",
    "    Returns accuracy per batch, i.e. if you get 8/10 right, this returns 0.8, NOT 8\n",
    "    \"\"\"\n",
    "    max_preds = preds.argmax(dim = 1, keepdim = True) # get the index of the max probability\n",
    "    correct = max_preds.squeeze(1).eq(y)\n",
    "    return correct.sum() / torch.FloatTensor([y.shape[0]])"
   ]
  },
  {
   "cell_type": "code",
   "execution_count": 296,
   "metadata": {},
   "outputs": [],
   "source": [
    "def evaluate(model, iterator, criterion):\n",
    "    \n",
    "    epoch_loss = 0\n",
    "    epoch_acc = 0\n",
    "    \n",
    "    model.eval()\n",
    "    \n",
    "    with torch.no_grad():\n",
    "    \n",
    "        for batch in iterator:\n",
    "\n",
    "            predictions = model(batch.text)\n",
    "            \n",
    "            loss = criterion(predictions, batch.category)\n",
    "            \n",
    "            acc = categorical_accuracy(predictions, batch.category)\n",
    "\n",
    "            epoch_loss += loss.item()\n",
    "            epoch_acc += acc.item()\n",
    "        \n",
    "    return epoch_loss / len(iterator), epoch_acc / len(iterator)"
   ]
  },
  {
   "cell_type": "markdown",
   "metadata": {},
   "source": [
    "### 4.5 Entrenamiento del modelo"
   ]
  },
  {
   "cell_type": "code",
   "execution_count": 297,
   "metadata": {},
   "outputs": [
    {
     "name": "stderr",
     "output_type": "stream",
     "text": [
      "/Library/Frameworks/Python.framework/Versions/3.8/lib/python3.8/site-packages/torchtext/data/batch.py:23: UserWarning: Batch class will be retired soon and moved to torchtext.legacy. Please see the most recent release notes for further information.\n",
      "  warnings.warn('{} class will be retired soon and moved to torchtext.legacy. Please see the most recent release notes for further information.'.format(self.__class__.__name__), UserWarning)\n"
     ]
    },
    {
     "name": "stdout",
     "output_type": "stream",
     "text": [
      "Epoch: 01 | Epoch Time: 16m 27s\n",
      "\tTrain Loss: 1.341 | Train Acc: 49.37%\n",
      "\t Val. Loss: 0.860 |  Val. Acc: 68.68%\n",
      "Epoch: 02 | Epoch Time: 14m 20s\n",
      "\tTrain Loss: 0.784 | Train Acc: 72.45%\n",
      "\t Val. Loss: 0.774 |  Val. Acc: 71.70%\n",
      "Epoch: 03 | Epoch Time: 14m 23s\n",
      "\tTrain Loss: 0.551 | Train Acc: 81.65%\n",
      "\t Val. Loss: 0.728 |  Val. Acc: 75.09%\n",
      "Epoch: 04 | Epoch Time: 14m 6s\n",
      "\tTrain Loss: 0.348 | Train Acc: 88.71%\n",
      "\t Val. Loss: 0.748 |  Val. Acc: 74.91%\n",
      "Epoch: 05 | Epoch Time: 14m 19s\n",
      "\tTrain Loss: 0.228 | Train Acc: 92.88%\n",
      "\t Val. Loss: 0.726 |  Val. Acc: 75.28%\n",
      "Epoch: 06 | Epoch Time: 15m 34s\n",
      "\tTrain Loss: 0.158 | Train Acc: 95.29%\n",
      "\t Val. Loss: 0.776 |  Val. Acc: 76.04%\n"
     ]
    }
   ],
   "source": [
    "N_EPOCHS = 6\n",
    "\n",
    "best_valid_loss = float('inf')\n",
    "\n",
    "for epoch in range(N_EPOCHS):\n",
    "\n",
    "    start_time = time.time()\n",
    "    \n",
    "    train_loss, train_acc = train(model, train_iterator, optimizer, criterion)\n",
    "    valid_loss, valid_acc = evaluate(model, valid_iterator, criterion)\n",
    "    \n",
    "    end_time = time.time()\n",
    "\n",
    "    epoch_mins, epoch_secs = epoch_time(start_time, end_time)\n",
    "    \n",
    "    if valid_loss < best_valid_loss:\n",
    "        best_valid_loss = valid_loss\n",
    "        torch.save(model.state_dict(), './category-model-CNN'+'_ep'+str(epoch+1)+'.pt')\n",
    "    \n",
    "    print(f'Epoch: {epoch+1:02} | Epoch Time: {epoch_mins}m {epoch_secs}s')\n",
    "    print(f'\\tTrain Loss: {train_loss:.3f} | Train Acc: {train_acc*100:.2f}%')\n",
    "    print(f'\\t Val. Loss: {valid_loss:.3f} |  Val. Acc: {valid_acc*100:.2f}%')\n"
   ]
  },
  {
   "cell_type": "markdown",
   "metadata": {},
   "source": [
    "Debido a la condición establecida que dice que solo se guardan los modelos donde el valor de su valid_loss sea menor al best_valid_loss, solo se guardan los modelos 1, 2, 3 y 5. De estos, el mejor es el quinto y es a este al que evaluaremos a continuación."
   ]
  },
  {
   "cell_type": "markdown",
   "metadata": {},
   "source": [
    "### 4.6 Evaluación del modelo"
   ]
  },
  {
   "cell_type": "code",
   "execution_count": 306,
   "metadata": {},
   "outputs": [],
   "source": [
    "best_model = CNN(INPUT_DIM, EMBEDDING_DIM, N_FILTERS, FILTER_SIZES, OUTPUT_DIM, DROPOUT, PAD_IDX)"
   ]
  },
  {
   "cell_type": "code",
   "execution_count": 307,
   "metadata": {},
   "outputs": [],
   "source": [
    "pretrained_embeddings = TEXT.vocab.vectors\n",
    "UNK_IDX = TEXT.vocab.stoi[TEXT.unk_token]\n",
    "\n",
    "best_model.embedding.weight.data.copy_(pretrained_embeddings)\n",
    "best_model.embedding.weight.data[UNK_IDX] = torch.zeros(EMBEDDING_DIM)\n",
    "best_model.embedding.weight.data[PAD_IDX] = torch.zeros(EMBEDDING_DIM)"
   ]
  },
  {
   "cell_type": "code",
   "execution_count": 308,
   "metadata": {},
   "outputs": [
    {
     "data": {
      "text/plain": [
       "<All keys matched successfully>"
      ]
     },
     "execution_count": 308,
     "metadata": {},
     "output_type": "execute_result"
    }
   ],
   "source": [
    "name = './category-model-CNN'+'_ep'+str(5)+'.pt'\n",
    "best_model.load_state_dict(torch.load(name))"
   ]
  },
  {
   "cell_type": "code",
   "execution_count": 309,
   "metadata": {
    "scrolled": true
   },
   "outputs": [],
   "source": [
    "prediction_test = []\n",
    "labels_test=[]\n",
    "for batch in test_iterator:\n",
    "    labels_test.append(batch.category.cpu().detach().numpy())\n",
    "    predictions = best_model(batch.text.cpu()).squeeze(1)\n",
    "    rounded_preds = predictions.argmax(dim = 1, keepdim = True)\n",
    "    prediction_test.append(rounded_preds.detach().numpy())\n",
    "    \n",
    "y_true = np.concatenate(labels_test)\n",
    "y_pred = np.concatenate(prediction_test)"
   ]
  },
  {
   "cell_type": "code",
   "execution_count": 310,
   "metadata": {},
   "outputs": [
    {
     "data": {
      "text/plain": [
       "array([[3],\n",
       "       [6],\n",
       "       [6],\n",
       "       ...,\n",
       "       [1],\n",
       "       [4],\n",
       "       [4]])"
      ]
     },
     "metadata": {},
     "output_type": "display_data"
    },
    {
     "data": {
      "text/plain": [
       "array([6, 6, 6, ..., 4, 4, 4])"
      ]
     },
     "metadata": {},
     "output_type": "display_data"
    }
   ],
   "source": [
    "display(y_pred,y_true)"
   ]
  },
  {
   "cell_type": "code",
   "execution_count": 311,
   "metadata": {},
   "outputs": [
    {
     "data": {
      "text/plain": [
       "array([3, 6, 6, ..., 1, 4, 4])"
      ]
     },
     "execution_count": 311,
     "metadata": {},
     "output_type": "execute_result"
    }
   ],
   "source": [
    "y_pred[:,0]"
   ]
  },
  {
   "cell_type": "code",
   "execution_count": 312,
   "metadata": {},
   "outputs": [
    {
     "data": {
      "text/plain": [
       "array([[ 99,   0,   5,   0,   6,  19,   6],\n",
       "       [  0, 117,   5,   7,   1,   3,  10],\n",
       "       [  3,   1, 104,  10,   4,   3,  28],\n",
       "       [  0,   3,   4, 106,   7,   2,  27],\n",
       "       [  2,   6,   3,   7, 113,  17,   8],\n",
       "       [ 11,   3,   8,   5,  25, 105,   9],\n",
       "       [  2,   3,  18,   9,   2,   1, 113]])"
      ]
     },
     "metadata": {},
     "output_type": "display_data"
    },
    {
     "name": "stdout",
     "output_type": "stream",
     "text": [
      "              precision    recall  f1-score   support\n",
      "\n",
      "           0       0.85      0.73      0.79       135\n",
      "           1       0.88      0.82      0.85       143\n",
      "           2       0.71      0.68      0.69       153\n",
      "           3       0.74      0.71      0.72       149\n",
      "           4       0.72      0.72      0.72       156\n",
      "           5       0.70      0.63      0.66       166\n",
      "           6       0.56      0.76      0.65       148\n",
      "\n",
      "    accuracy                           0.72      1050\n",
      "   macro avg       0.74      0.72      0.73      1050\n",
      "weighted avg       0.73      0.72      0.72      1050\n",
      "\n"
     ]
    }
   ],
   "source": [
    "from sklearn.metrics import f1_score, confusion_matrix, classification_report\n",
    "\n",
    "cm = confusion_matrix(\n",
    "    y_true, y_pred[:,0])\n",
    "display(cm)\n",
    "\n",
    "print(classification_report(y_true, y_pred[:,0]))"
   ]
  },
  {
   "cell_type": "markdown",
   "metadata": {},
   "source": [
    "Como primer método de evaluación usamos la matriz de confusión y el reporte de clasificación, este nos dice que el modelo tiene un **0.88 de precision** al predecir noticias de la clase 1 (**Deportes**), y tan solo un **0.56 de precision** al predecir noticias de la clase 6 (**País**). En cuanto al **recall**, tenemos **0.82** para la clase 1 (**Deportes**), mientras que el **menor recall** lo tenemos en la clase 5 (**País**) con un **0.63**. Los **mejores f1-score** son para las clases 1 y 0 (**Deportes y Cultura**) con **0.85 y 0.79**, mientras que **los más bajos** son para las clases 6 y 5 (**País y Tendencias**) con **0.65 y 0.66**.\n",
    "Además este método de evaluación nos arroja un **accuracy** del **0.72**."
   ]
  },
  {
   "cell_type": "code",
   "execution_count": 313,
   "metadata": {},
   "outputs": [
    {
     "name": "stdout",
     "output_type": "stream",
     "text": [
      "Test Loss: 0.761 | Test Acc: 74.34%\n"
     ]
    }
   ],
   "source": [
    "model.load_state_dict(torch.load('category-model-CNN'+'_ep'+str(5)+'.pt'))\n",
    "\n",
    "test_loss, test_acc = evaluate(model, test_iterator, criterion)\n",
    "\n",
    "print(f'Test Loss: {test_loss:.3f} | Test Acc: {test_acc*100:.2f}%')"
   ]
  },
  {
   "cell_type": "markdown",
   "metadata": {},
   "source": [
    "El segundo método de evaluación nos entrega el cálculo de la función de pérdida y el accuracy en el testeo usando el método evaluate() que se encuentra definido más arriba. Para la función de pérdida se usa CrossEntropy, mientras que el accuracy está definido como la precisión categórica, la cual nos da el accuracy por batch."
   ]
  },
  {
   "cell_type": "markdown",
   "metadata": {},
   "source": [
    "### 5 Conclusión"
   ]
  },
  {
   "cell_type": "markdown",
   "metadata": {},
   "source": [
    "En este trabajo, el mejor modelo en cuanto a accuracy terminó siendo el de Naïve Bayes con un 75%, aún así, el modelo de redes neuronales podría seguir siendo mejorado cambiando parámetros como el batch size, el número y tamaños de filtros, número de epochs, etc."
   ]
  }
 ],
 "metadata": {
  "kernelspec": {
   "display_name": "Python 3",
   "language": "python",
   "name": "python3"
  },
  "language_info": {
   "codemirror_mode": {
    "name": "ipython",
    "version": 3
   },
   "file_extension": ".py",
   "mimetype": "text/x-python",
   "name": "python",
   "nbconvert_exporter": "python",
   "pygments_lexer": "ipython3",
   "version": "3.8.5"
  },
  "toc": {
   "base_numbering": 1,
   "nav_menu": {},
   "number_sections": false,
   "sideBar": true,
   "skip_h1_title": true,
   "title_cell": "Table of Contents",
   "title_sidebar": "Contents",
   "toc_cell": false,
   "toc_position": {
    "height": "calc(100% - 180px)",
    "left": "10px",
    "top": "150px",
    "width": "204px"
   },
   "toc_section_display": true,
   "toc_window_display": true
  }
 },
 "nbformat": 4,
 "nbformat_minor": 2
}
